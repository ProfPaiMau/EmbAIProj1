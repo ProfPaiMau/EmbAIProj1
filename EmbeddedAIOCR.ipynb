{
  "nbformat": 4,
  "nbformat_minor": 0,
  "metadata": {
    "colab": {
      "provenance": [],
      "mount_file_id": "1eRcu6LGtEk_ChjvAHxUgBpw_zcowfLvJ",
      "authorship_tag": "ABX9TyOFVCbw5MKoJsy+YseKA9vc",
      "include_colab_link": true
    },
    "kernelspec": {
      "name": "python3",
      "display_name": "Python 3"
    },
    "language_info": {
      "name": "python"
    }
  },
  "cells": [
    {
      "cell_type": "markdown",
      "metadata": {
        "id": "view-in-github",
        "colab_type": "text"
      },
      "source": [
        "<a href=\"https://colab.research.google.com/github/ProfPaiMau/EmbAIProj1/blob/main/EmbeddedAIOCR.ipynb\" target=\"_parent\"><img src=\"https://colab.research.google.com/assets/colab-badge.svg\" alt=\"Open In Colab\"/></a>"
      ]
    },
    {
      "cell_type": "code",
      "source": [
        "import numpy as np # linear algebra\n",
        "import pandas as pd # data processing, CSV file I/O (e.g. pd.read_csv\n"
      ],
      "metadata": {
        "id": "XpRLL-KIFWDn"
      },
      "execution_count": 4,
      "outputs": []
    },
    {
      "cell_type": "code",
      "source": [
        "#Importar o core do tensorflow\n",
        "\n",
        "import tensorflow as tf\n",
        "import datetime\n",
        "\n",
        "#Importacao das layerss para construir CNN\n",
        "from tensorflow.keras.models import Sequential\n",
        "from tensorflow.keras.layers import Dense, Conv2D, Flatten, Dropout, MaxPooling2D\n",
        "\n",
        "#Importar para data pre-processing... load image, data aug etc\n",
        "from tensorflow.keras.preprocessing.image import ImageDataGenerator\n",
        "\n",
        "#outrods\n",
        "from tensorflow.keras import regularizers\n",
        "import matplotlib.pyplot as plt\n",
        "import cv2"
      ],
      "metadata": {
        "id": "GUvkT0gxnqt9"
      },
      "execution_count": 16,
      "outputs": []
    },
    {
      "cell_type": "code",
      "source": [
        "#Função para desenhar imagens\n",
        "\n",
        "### defining some function to make our work easier\n",
        "import matplotlib.pyplot as plt\n",
        "\n",
        "# This function will plot images in the form of a grid with 1 row and 5 columns where images are placed in each column.\n",
        "def plot_images(images_arr, imageWidth, imageHeight):\n",
        "    fig, axes = plt.subplots(1, 5, figsize=(20, 20))\n",
        "    axes = axes.flatten()\n",
        "    for img, ax in zip(images_arr, axes):\n",
        "        ax.imshow(img.reshape(imageWidth, imageHeight), cmap=\"gray\")\n",
        "        ax.axis(\"off\")\n",
        "    plt.tight_layout()\n",
        "    plt.show()"
      ],
      "metadata": {
        "id": "BkKCLS0rpGg-"
      },
      "execution_count": 6,
      "outputs": []
    },
    {
      "cell_type": "code",
      "source": [
        "batch_size = 32 #num imagens a processar ao mesmo tempo\n",
        "epochs = 50 # Numero de vezes que vai fazer o training de todo o dataset\n",
        "IMG_HEIGHT = 28 #target resize\n",
        "IMG_WIDTH = 28 # target resize"
      ],
      "metadata": {
        "id": "qxS7THCrpuS7"
      },
      "execution_count": 7,
      "outputs": []
    },
    {
      "cell_type": "code",
      "source": [
        "# Gera imagens para melhorar o training e reduzir o overfitting, aplicando:\n",
        "#  - variacoes com data augmentation (tilted, zoom, scaled, moved)\n",
        "\n",
        "augmented_image_gen = ImageDataGenerator(\n",
        "        rescale = 1/255.0,\n",
        "    rotation_range=2,\n",
        "    width_shift_range=.1,\n",
        "    height_shift_range=.1,\n",
        "    zoom_range=0.1,\n",
        "    shear_range=2,\n",
        "    brightness_range=[0.9, 1.1],\n",
        "    validation_split=0.2,\n",
        "\n",
        "   )\n",
        "\n",
        "#Normaliza imagens para validacao\n",
        "normal_image_gen = ImageDataGenerator(\n",
        "    rescale = 1/255.0,\n",
        "    validation_split=0.2,\n",
        "\n",
        "   )"
      ],
      "metadata": {
        "id": "AI8U-FDyq1Rv"
      },
      "execution_count": 8,
      "outputs": []
    },
    {
      "cell_type": "code",
      "source": [
        "train_data_gen = augmented_image_gen.flow_from_directory(batch_size=batch_size,\n",
        "                                                     directory=\"/content/drive/MyDrive/PhdData/Daniel/standardOCR/data/training_data\",\n",
        "                                                     color_mode=\"grayscale\",\n",
        "                                                     shuffle=True,\n",
        "                                                     target_size=(IMG_HEIGHT, IMG_WIDTH),\n",
        "                                                     class_mode=\"categorical\",\n",
        "                                                     seed=65657867,\n",
        "                                                     subset='training')\n",
        "val_data_gen = normal_image_gen.flow_from_directory(batch_size=batch_size,\n",
        "                                                     directory=\"/content/drive/MyDrive/PhdData/Daniel/standardOCR/data/testing_data\",\n",
        "                                                     color_mode=\"grayscale\",\n",
        "                                                     shuffle=True,\n",
        "                                                     target_size=(IMG_HEIGHT, IMG_WIDTH),\n",
        "                                                     class_mode=\"categorical\",\n",
        "                                                     seed=65657867,\n",
        "                                                     subset='validation')"
      ],
      "metadata": {
        "id": "Czgnp5eTq2ci",
        "colab": {
          "base_uri": "https://localhost:8080/"
        },
        "outputId": "b0a25ff0-fa6e-4d61-f528-5146a848fd39"
      },
      "execution_count": 9,
      "outputs": [
        {
          "output_type": "stream",
          "name": "stdout",
          "text": [
            "Found 16534 images belonging to 36 classes.\n",
            "Found 180 images belonging to 36 classes.\n"
          ]
        }
      ]
    },
    {
      "cell_type": "code",
      "source": [
        "#Fazer um sample para teste se ta tudo ok\n",
        "sample_training_images, _ = next(train_data_gen)\n",
        "plot_images(sample_training_images[:7], IMG_WIDTH, IMG_HEIGHT)"
      ],
      "metadata": {
        "id": "4BSXy0xHsCYM",
        "colab": {
          "base_uri": "https://localhost:8080/",
          "height": 227
        },
        "outputId": "47786c6b-2393-41a1-ee14-70d06ca3e91e"
      },
      "execution_count": 10,
      "outputs": [
        {
          "output_type": "display_data",
          "data": {
            "text/plain": [
              "<Figure size 2000x2000 with 5 Axes>"
            ],
            "image/png": "[encoded data removed]"
          },
          "metadata": {}
        }
      ]
    },
    {
      "cell_type": "code",
      "source": [
        "# Modelo CCN com um stack linear de camadas\n",
        "\n",
        "from tensorflow.keras.optimizers import SGD\n",
        "# define cnn model\n",
        "def define_model():\n",
        "    model = Sequential()\n",
        "\n",
        "    # Adicionar a convulotion layaer tal como explicado Slide 1.6, Sessao 2, pag 30\n",
        "    model.add(Conv2D(32, (3, 3), activation='relu', kernel_initializer='he_uniform', input_shape=(28, 28, 1)))\n",
        "    # Adicionar a MAx pooling layaer tal como explicado Slide 1.6, Sessao 2, pag 31\n",
        "    model.add(MaxPooling2D((2, 2)))\n",
        "    # Addflatten layer serve para converter 2D para 1D\n",
        "    model.add(Flatten())\n",
        "\n",
        "    # Layer que define o fully connected, 100 neuroms !?!, page 32???\n",
        "    model.add(Dense(100, activation='relu', kernel_initializer='he_uniform'))\n",
        "    # Layer que define a softmax layer, 36 uma saida para cada letra, softmax para multi-class!?!, pag 33\n",
        "    model.add(Dense(36, activation='softmax'))\n",
        "    return model"
      ],
      "metadata": {
        "id": "UzEBA41osLKU"
      },
      "execution_count": 11,
      "outputs": []
    },
    {
      "cell_type": "code",
      "source": [
        "model = define_model()"
      ],
      "metadata": {
        "id": "7z0ZEIeKsZm5",
        "colab": {
          "base_uri": "https://localhost:8080/"
        },
        "outputId": "3aa522ca-d69d-45b3-a5ee-97ddda62fa59"
      },
      "execution_count": 12,
      "outputs": [
        {
          "output_type": "stream",
          "name": "stderr",
          "text": [
            "/usr/local/lib/python3.10/dist-packages/keras/src/layers/convolutional/base_conv.py:107: UserWarning: Do not pass an `input_shape`/`input_dim` argument to a layer. When using Sequential models, prefer using an `Input(shape)` object as the first layer in the model instead.\n",
            "  super().__init__(activity_regularizer=activity_regularizer, **kwargs)\n"
          ]
        }
      ]
    },
    {
      "cell_type": "code",
      "source": [
        "#Callbacks the que antecipam o termino do calculo\n",
        "\n",
        "import tensorflow\n",
        "from tensorflow.keras.callbacks import EarlyStopping,ModelCheckpoint, ReduceLROnPlateau\n",
        "\n",
        "#Prepare call backs\n",
        "EarlyStop_callback = tensorflow.keras.callbacks.EarlyStopping(monitor='val_loss', patience=20, restore_best_weights=True)\n",
        "checkpoint = ModelCheckpoint('/content/OCRDataSet2/model.keras',\n",
        "                             monitor = 'val_loss',mode = 'min',save_best_only= True)\n",
        "lr = ReduceLROnPlateau(monitor = 'val_loss',factor = 0.5,patience = 3,min_lr = 0.00001)\n",
        "my_callback=[EarlyStop_callback,checkpoint]"
      ],
      "metadata": {
        "id": "9CM1zK8WxGRh"
      },
      "execution_count": 13,
      "outputs": []
    },
    {
      "cell_type": "code",
      "source": [
        "#Treino do modelo\n",
        "\n",
        "# Falha em reconhecer lr0.01\n",
        "#model.compile(optimizer=SGD(lr=0.01, momentum=0.9),\n",
        "#              loss=tf.keras.losses.CategoricalCrossentropy(),\n",
        "#              metrics=['categorical_accuracy'])\n",
        "\n",
        "model.compile(optimizer=tf.keras.optimizers.Adam(learning_rate=0.001),\n",
        "              loss=tf.keras.losses.CategoricalCrossentropy(),\n",
        "              metrics=['categorical_accuracy'])\n",
        "\n",
        "history = model.fit(\n",
        "    train_data_gen,\n",
        "    steps_per_epoch=train_data_gen.samples // batch_size,\n",
        "    epochs=32,\n",
        "    validation_data=val_data_gen,\n",
        "    validation_steps=val_data_gen.samples // batch_size,\n",
        "    callbacks=my_callback\n",
        ")"
      ],
      "metadata": {
        "id": "2LgzV-eRxVNv",
        "colab": {
          "base_uri": "https://localhost:8080/"
        },
        "outputId": "8c4e7b64-e436-4c1e-946d-ef495b9fee69"
      },
      "execution_count": null,
      "outputs": [
        {
          "output_type": "stream",
          "name": "stdout",
          "text": [
            "Epoch 1/32\n"
          ]
        },
        {
          "output_type": "stream",
          "name": "stderr",
          "text": [
            "/usr/local/lib/python3.10/dist-packages/keras/src/trainers/data_adapters/py_dataset_adapter.py:121: UserWarning: Your `PyDataset` class should call `super().__init__(**kwargs)` in its constructor. `**kwargs` can include `workers`, `use_multiprocessing`, `max_queue_size`. Do not pass these arguments to `fit()`, as they will be ignored.\n",
            "  self._warn_if_super_not_called()\n"
          ]
        },
        {
          "output_type": "stream",
          "name": "stdout",
          "text": [
            "\u001b[1m 42/516\u001b[0m \u001b[32m━\u001b[0m\u001b[37m━━━━━━━━━━━━━━━━━━━\u001b[0m \u001b[1m1:36:56\u001b[0m 12s/step - categorical_accuracy: 0.0431 - loss: 3.6808"
          ]
        }
      ]
    },
    {
      "cell_type": "code",
      "source": [
        "#Plots dos resultado explicados em baixo\n",
        "\n",
        "acc = history.history['categorical_accuracy']\n",
        "val_acc = history.history['val_categorical_accuracy']\n",
        "\n",
        "loss = history.history['loss']\n",
        "\n",
        "val_loss = history.history['val_loss']\n",
        "\n",
        "epochs_range = range(32)\n",
        "\n",
        "plt.figure(figsize=(8, 8))\n",
        "plt.subplot(1, 2, 1)\n",
        "plt.plot(epochs_range, acc, label='Training Accuracy')\n",
        "plt.plot(epochs_range, val_acc, label='Validation Accuracy')\n",
        "plt.legend(loc='lower right')\n",
        "plt.title('Training and Validation Accuracy')\n",
        "\n",
        "plt.subplot(1, 2, 2)\n",
        "plt.plot(epochs_range, loss, label='Training Loss')\n",
        "plt.plot(epochs_range, val_loss, label='Validation Loss')\n",
        "plt.legend(loc='upper right')\n",
        "plt.title('Training and Validation Loss')\n",
        "plt.show()"
      ],
      "metadata": {
        "id": "DaiuHdBZy4Ur"
      },
      "execution_count": null,
      "outputs": []
    }
  ]
}